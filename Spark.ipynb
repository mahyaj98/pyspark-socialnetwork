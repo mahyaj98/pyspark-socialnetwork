{
  "nbformat": 4,
  "nbformat_minor": 0,
  "metadata": {
    "colab": {
      "name": "Spark",
      "provenance": [],
      "collapsed_sections": [],
      "toc_visible": true
    },
    "kernelspec": {
      "display_name": "Python 3",
      "name": "python3"
    }
  },
  "cells": [
    {
      "cell_type": "code",
      "metadata": {
        "id": "C7RE3vnwZ_d9",
        "colab_type": "code",
        "colab": {}
      },
      "source": [
        "!apt-get install openjdk-8-jdk-headless -qq > /dev/null\n",
        "!wget -q http://www-eu.apache.org/dist/spark/spark-2.4.4/spark-2.4.4-bin-hadoop2.7.tgz\n",
        "!tar xf spark-2.4.4-bin-hadoop2.7.tgz\n",
        "!pip install -q findspark\n",
        "!pip install pyspark"
      ],
      "execution_count": 0,
      "outputs": []
    },
    {
      "cell_type": "code",
      "metadata": {
        "id": "oQuFjPBtbNqD",
        "colab_type": "code",
        "colab": {}
      },
      "source": [
        "import os\n",
        "os.environ[\"JAVA_HOME\"] = \"/usr/lib/jvm/java-8-openjdk-amd64\"\n",
        "os.environ[\"SPARK_HOME\"] = \"/content/spark-2.4.4-bin-hadoop2.7\""
      ],
      "execution_count": 0,
      "outputs": []
    },
    {
      "cell_type": "code",
      "metadata": {
        "id": "IAV7MMyJb0qr",
        "colab_type": "code",
        "colab": {}
      },
      "source": [
        "import findspark\n",
        "findspark.init(\"spark-2.4.4-bin-hadoop2.7\")# SPARK_HOME\n",
        "from pyspark.sql import SparkSession\n",
        "spark = SparkSession.builder.master(\"local[*]\").getOrCreate()"
      ],
      "execution_count": 0,
      "outputs": []
    },
    {
      "cell_type": "code",
      "metadata": {
        "id": "bc72rqh4cMyK",
        "colab_type": "code",
        "colab": {}
      },
      "source": [
        "!wget https://snap.stanford.edu/data/facebook_combined.txt.gz"
      ],
      "execution_count": 0,
      "outputs": []
    },
    {
      "cell_type": "code",
      "metadata": {
        "id": "3kn416WWeaSV",
        "colab_type": "code",
        "colab": {}
      },
      "source": [
        "!gunzip facebook_combined.txt.gz "
      ],
      "execution_count": 0,
      "outputs": []
    },
    {
      "cell_type": "code",
      "metadata": {
        "id": "yRZB98clp6bz",
        "colab_type": "code",
        "colab": {}
      },
      "source": [
        "from pyspark import SparkConf, SparkContext\n",
        "from pyspark.sql.functions import col\n",
        "from pyspark.sql mimport functions as F\n",
        "from pyspark.sql import SparkSession"
      ],
      "execution_count": 0,
      "outputs": []
    },
    {
      "cell_type": "code",
      "metadata": {
        "id": "pwCe5Y1Wo4nx",
        "colab_type": "code",
        "colab": {}
      },
      "source": [
        "dataf = open('./facebook_combined.txt','r')\n",
        "data = [[int(x.split(' ')[0]),int(x.split(' ')[1])] for x in dataf.readlines()]\n",
        "df = spark.createDataFrame(data, ['from', 'to'])\n",
        "high_degree_centrality = df.groupBy('from').count().sort(col('count'))"
      ],
      "execution_count": 0,
      "outputs": []
    },
    {
      "cell_type": "code",
      "metadata": {
        "id": "-a7WtP1UtGLe",
        "colab_type": "code",
        "colab": {}
      },
      "source": [
        "def ALG1(S, k):\n",
        "    total = 0\n",
        "    f = df.select('to').where(df['from'].isin([]))\n",
        "    for i in range(k):\n",
        "        SS_HDC = high_degree_centrality.filter(col('from').isin(S))\n",
        "        max_value = S_HDC.select(F.max('count')).collect()[0][0]\n",
        "        s = S_HDC.select('from').where(S_HDC['count'] == max_value).limit(1).collect()[0][0]\n",
        "        S.remove(s)\n",
        "        N1 = df.select('to').where(df['from'] == s)\n",
        "        N2 = df.select('to').where(df['from'].isin( [item['to'] for item in N1.collect()]))\n",
        "        tmp =N1.union(N2)\n",
        "        total += tmp.count()\n",
        "        f.union(tmp)\n",
        "    unique = f.count()\n",
        "    COV = 100 - (unique/total)*100\n",
        "    return COV"
      ],
      "execution_count": 0,
      "outputs": []
    },
    {
      "cell_type": "code",
      "metadata": {
        "id": "9iOnk5cLB2O1",
        "colab_type": "code",
        "outputId": "a0eb9211-b52d-4943-ebd3-0888701bdee0",
        "colab": {
          "base_uri": "https://localhost:8080/",
          "height": 35
        }
      },
      "source": [
        "ALG1([1,2,3,20],2)"
      ],
      "execution_count": 0,
      "outputs": [
        {
          "output_type": "execute_result",
          "data": {
            "text/plain": [
              "100.0"
            ]
          },
          "metadata": {
            "tags": []
          },
          "execution_count": 52
        }
      ]
    },
    {
      "cell_type": "code",
      "metadata": {
        "id": "cyQjGQMKB-nz",
        "colab_type": "code",
        "colab": {}
      },
      "source": [
        "def Dist(s, t, td):\n",
        "    i = 0\n",
        "    if s == t:\n",
        "        return 0\n",
        "    tmp = [s]\n",
        "    while i < td:\n",
        "        print(i)\n",
        "        i+=1\n",
        "        N = df.select('to').where(df['from'].isin(tmp))\n",
        "        if N.select('to').where(N['to'].isin([t])).count():\n",
        "            return i \n",
        "        tmp = [item['to'] for item in N.collect()]\n"
      ],
      "execution_count": 0,
      "outputs": []
    },
    {
      "cell_type": "code",
      "metadata": {
        "id": "OJ5-QcJOjD2v",
        "colab_type": "code",
        "colab": {}
      },
      "source": [
        "Dist(1,2, 10)"
      ],
      "execution_count": 0,
      "outputs": []
    }
  ]
}